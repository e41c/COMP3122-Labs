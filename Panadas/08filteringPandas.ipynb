{
 "cells": [
  {
   "cell_type": "raw",
   "source": [
    "m#%%\n",
    "port panas as pd"
   ],
   "metadata": {
    "collapsed": false
   },
   "id": "9dbb0903a18e37bb"
  },
  {
   "cell_type": "code",
   "execution_count": 274,
   "outputs": [],
   "source": [
    "import pandas as pd\n"
   ],
   "metadata": {
    "collapsed": false,
    "ExecuteTime": {
     "end_time": "2023-11-07T14:38:48.323004Z",
     "start_time": "2023-11-07T14:38:48.231053600Z"
    }
   },
   "id": "6950fc6a0748042f"
  },
  {
   "cell_type": "code",
   "execution_count": 275,
   "outputs": [],
   "source": [
    "movies = pd.read_csv('imdbratings.csv')"
   ],
   "metadata": {
    "collapsed": false,
    "ExecuteTime": {
     "end_time": "2023-11-07T14:38:48.423088400Z",
     "start_time": "2023-11-07T14:38:48.239051400Z"
    }
   },
   "id": "9aa65f619ec370dd"
  },
  {
   "cell_type": "code",
   "execution_count": 276,
   "outputs": [
    {
     "data": {
      "text/plain": "   star_rating                     title content_rating   genre  duration  \\\n0          9.3  The Shawshank Redemption              R   Crime       142   \n1          9.2             The Godfather              R   Crime       175   \n2          9.1    The Godfather: Part II              R   Crime       200   \n3          9.0           The Dark Knight          PG-13  Action       152   \n4          8.9              Pulp Fiction              R   Crime       154   \n\n                                         actors_list  \n0  [u'Tim Robbins', u'Morgan Freeman', u'Bob Gunt...  \n1    [u'Marlon Brando', u'Al Pacino', u'James Caan']  \n2  [u'Al Pacino', u'Robert De Niro', u'Robert Duv...  \n3  [u'Christian Bale', u'Heath Ledger', u'Aaron E...  \n4  [u'John Travolta', u'Uma Thurman', u'Samuel L....  ",
      "text/html": "<div>\n<style scoped>\n    .dataframe tbody tr th:only-of-type {\n        vertical-align: middle;\n    }\n\n    .dataframe tbody tr th {\n        vertical-align: top;\n    }\n\n    .dataframe thead th {\n        text-align: right;\n    }\n</style>\n<table border=\"1\" class=\"dataframe\">\n  <thead>\n    <tr style=\"text-align: right;\">\n      <th></th>\n      <th>star_rating</th>\n      <th>title</th>\n      <th>content_rating</th>\n      <th>genre</th>\n      <th>duration</th>\n      <th>actors_list</th>\n    </tr>\n  </thead>\n  <tbody>\n    <tr>\n      <th>0</th>\n      <td>9.3</td>\n      <td>The Shawshank Redemption</td>\n      <td>R</td>\n      <td>Crime</td>\n      <td>142</td>\n      <td>[u'Tim Robbins', u'Morgan Freeman', u'Bob Gunt...</td>\n    </tr>\n    <tr>\n      <th>1</th>\n      <td>9.2</td>\n      <td>The Godfather</td>\n      <td>R</td>\n      <td>Crime</td>\n      <td>175</td>\n      <td>[u'Marlon Brando', u'Al Pacino', u'James Caan']</td>\n    </tr>\n    <tr>\n      <th>2</th>\n      <td>9.1</td>\n      <td>The Godfather: Part II</td>\n      <td>R</td>\n      <td>Crime</td>\n      <td>200</td>\n      <td>[u'Al Pacino', u'Robert De Niro', u'Robert Duv...</td>\n    </tr>\n    <tr>\n      <th>3</th>\n      <td>9.0</td>\n      <td>The Dark Knight</td>\n      <td>PG-13</td>\n      <td>Action</td>\n      <td>152</td>\n      <td>[u'Christian Bale', u'Heath Ledger', u'Aaron E...</td>\n    </tr>\n    <tr>\n      <th>4</th>\n      <td>8.9</td>\n      <td>Pulp Fiction</td>\n      <td>R</td>\n      <td>Crime</td>\n      <td>154</td>\n      <td>[u'John Travolta', u'Uma Thurman', u'Samuel L....</td>\n    </tr>\n  </tbody>\n</table>\n</div>"
     },
     "execution_count": 276,
     "metadata": {},
     "output_type": "execute_result"
    }
   ],
   "source": [
    "movies.head()"
   ],
   "metadata": {
    "collapsed": false,
    "ExecuteTime": {
     "end_time": "2023-11-07T14:38:48.423088400Z",
     "start_time": "2023-11-07T14:38:48.267053Z"
    }
   },
   "id": "5afce70565f081ef"
  },
  {
   "cell_type": "code",
   "execution_count": 277,
   "id": "initial_id",
   "metadata": {
    "collapsed": true,
    "ExecuteTime": {
     "end_time": "2023-11-07T14:38:48.423088400Z",
     "start_time": "2023-11-07T14:38:48.302937500Z"
    }
   },
   "outputs": [
    {
     "data": {
      "text/plain": "(979, 6)"
     },
     "execution_count": 277,
     "metadata": {},
     "output_type": "execute_result"
    }
   ],
   "source": [
    "movies.shape"
   ]
  },
  {
   "cell_type": "code",
   "execution_count": 278,
   "outputs": [],
   "source": [
    "booleans = []"
   ],
   "metadata": {
    "collapsed": false,
    "ExecuteTime": {
     "end_time": "2023-11-07T14:38:48.423088400Z",
     "start_time": "2023-11-07T14:38:48.314968800Z"
    }
   },
   "id": "afd508d97c4b12d6"
  },
  {
   "cell_type": "code",
   "execution_count": 279,
   "outputs": [],
   "source": [
    "for length in movies.duration:\n",
    "    if length >=200:\n",
    "        booleans.append(True)\n",
    "    else:\n",
    "        booleans.append(False)"
   ],
   "metadata": {
    "collapsed": false,
    "ExecuteTime": {
     "end_time": "2023-11-07T14:38:48.423088400Z",
     "start_time": "2023-11-07T14:38:48.326980700Z"
    }
   },
   "id": "fb59256b1078536e"
  },
  {
   "cell_type": "code",
   "execution_count": 280,
   "outputs": [
    {
     "data": {
      "text/plain": "[False, False, True, False, False]"
     },
     "execution_count": 280,
     "metadata": {},
     "output_type": "execute_result"
    }
   ],
   "source": [
    "booleans[0:5]"
   ],
   "metadata": {
    "collapsed": false,
    "ExecuteTime": {
     "end_time": "2023-11-07T14:38:48.427067300Z",
     "start_time": "2023-11-07T14:38:48.342984Z"
    }
   },
   "id": "32db1fe8b7fb3a3b"
  },
  {
   "cell_type": "code",
   "execution_count": 281,
   "outputs": [
    {
     "data": {
      "text/plain": "979"
     },
     "execution_count": 281,
     "metadata": {},
     "output_type": "execute_result"
    }
   ],
   "source": [
    "len(booleans)"
   ],
   "metadata": {
    "collapsed": false,
    "ExecuteTime": {
     "end_time": "2023-11-07T14:38:48.427579100Z",
     "start_time": "2023-11-07T14:38:48.354985200Z"
    }
   },
   "id": "bebbfe3f1d4442dd"
  },
  {
   "cell_type": "code",
   "execution_count": 282,
   "outputs": [],
   "source": [
    "is_long = pd.Series(booleans)"
   ],
   "metadata": {
    "collapsed": false,
    "ExecuteTime": {
     "end_time": "2023-11-07T14:38:48.427579100Z",
     "start_time": "2023-11-07T14:38:48.370984500Z"
    }
   },
   "id": "fdfeca4c91755ae4"
  },
  {
   "cell_type": "code",
   "execution_count": 283,
   "outputs": [
    {
     "data": {
      "text/plain": "0      False\n1      False\n2       True\n3      False\n4      False\n       ...  \n974    False\n975    False\n976    False\n977    False\n978    False\nLength: 979, dtype: bool"
     },
     "execution_count": 283,
     "metadata": {},
     "output_type": "execute_result"
    }
   ],
   "source": [
    "is_long"
   ],
   "metadata": {
    "collapsed": false,
    "ExecuteTime": {
     "end_time": "2023-11-07T14:38:48.427579100Z",
     "start_time": "2023-11-07T14:38:48.382983500Z"
    }
   },
   "id": "c7d05248297c2263"
  },
  {
   "cell_type": "code",
   "execution_count": 284,
   "outputs": [
    {
     "data": {
      "text/plain": "     star_rating                                          title  \\\n2            9.1                         The Godfather: Part II   \n7            8.9  The Lord of the Rings: The Return of the King   \n17           8.7                                  Seven Samurai   \n78           8.4                    Once Upon a Time in America   \n85           8.4                             Lawrence of Arabia   \n142          8.3              Lagaan: Once Upon a Time in India   \n157          8.2                             Gone with the Wind   \n204          8.1                                        Ben-Hur   \n445          7.9                           The Ten Commandments   \n476          7.8                                         Hamlet   \n630          7.7                                      Malcolm X   \n767          7.6                It's a Mad, Mad, Mad, Mad World   \n\n    content_rating      genre  duration  \\\n2                R      Crime       200   \n7            PG-13  Adventure       201   \n17         UNRATED      Drama       207   \n78               R      Crime       229   \n85              PG  Adventure       216   \n142             PG  Adventure       224   \n157              G      Drama       238   \n204              G  Adventure       212   \n445       APPROVED  Adventure       220   \n476          PG-13      Drama       242   \n630          PG-13  Biography       202   \n767       APPROVED     Action       205   \n\n                                           actors_list  \n2    [u'Al Pacino', u'Robert De Niro', u'Robert Duv...  \n7    [u'Elijah Wood', u'Viggo Mortensen', u'Ian McK...  \n17   [u'Toshir\\xf4 Mifune', u'Takashi Shimura', u'K...  \n78   [u'Robert De Niro', u'James Woods', u'Elizabet...  \n85   [u\"Peter O'Toole\", u'Alec Guinness', u'Anthony...  \n142  [u'Aamir Khan', u'Gracy Singh', u'Rachel Shell...  \n157  [u'Clark Gable', u'Vivien Leigh', u'Thomas Mit...  \n204  [u'Charlton Heston', u'Jack Hawkins', u'Stephe...  \n445  [u'Charlton Heston', u'Yul Brynner', u'Anne Ba...  \n476  [u'Kenneth Branagh', u'Julie Christie', u'Dere...  \n630  [u'Denzel Washington', u'Angela Bassett', u'De...  \n767  [u'Spencer Tracy', u'Milton Berle', u'Ethel Me...  ",
      "text/html": "<div>\n<style scoped>\n    .dataframe tbody tr th:only-of-type {\n        vertical-align: middle;\n    }\n\n    .dataframe tbody tr th {\n        vertical-align: top;\n    }\n\n    .dataframe thead th {\n        text-align: right;\n    }\n</style>\n<table border=\"1\" class=\"dataframe\">\n  <thead>\n    <tr style=\"text-align: right;\">\n      <th></th>\n      <th>star_rating</th>\n      <th>title</th>\n      <th>content_rating</th>\n      <th>genre</th>\n      <th>duration</th>\n      <th>actors_list</th>\n    </tr>\n  </thead>\n  <tbody>\n    <tr>\n      <th>2</th>\n      <td>9.1</td>\n      <td>The Godfather: Part II</td>\n      <td>R</td>\n      <td>Crime</td>\n      <td>200</td>\n      <td>[u'Al Pacino', u'Robert De Niro', u'Robert Duv...</td>\n    </tr>\n    <tr>\n      <th>7</th>\n      <td>8.9</td>\n      <td>The Lord of the Rings: The Return of the King</td>\n      <td>PG-13</td>\n      <td>Adventure</td>\n      <td>201</td>\n      <td>[u'Elijah Wood', u'Viggo Mortensen', u'Ian McK...</td>\n    </tr>\n    <tr>\n      <th>17</th>\n      <td>8.7</td>\n      <td>Seven Samurai</td>\n      <td>UNRATED</td>\n      <td>Drama</td>\n      <td>207</td>\n      <td>[u'Toshir\\xf4 Mifune', u'Takashi Shimura', u'K...</td>\n    </tr>\n    <tr>\n      <th>78</th>\n      <td>8.4</td>\n      <td>Once Upon a Time in America</td>\n      <td>R</td>\n      <td>Crime</td>\n      <td>229</td>\n      <td>[u'Robert De Niro', u'James Woods', u'Elizabet...</td>\n    </tr>\n    <tr>\n      <th>85</th>\n      <td>8.4</td>\n      <td>Lawrence of Arabia</td>\n      <td>PG</td>\n      <td>Adventure</td>\n      <td>216</td>\n      <td>[u\"Peter O'Toole\", u'Alec Guinness', u'Anthony...</td>\n    </tr>\n    <tr>\n      <th>142</th>\n      <td>8.3</td>\n      <td>Lagaan: Once Upon a Time in India</td>\n      <td>PG</td>\n      <td>Adventure</td>\n      <td>224</td>\n      <td>[u'Aamir Khan', u'Gracy Singh', u'Rachel Shell...</td>\n    </tr>\n    <tr>\n      <th>157</th>\n      <td>8.2</td>\n      <td>Gone with the Wind</td>\n      <td>G</td>\n      <td>Drama</td>\n      <td>238</td>\n      <td>[u'Clark Gable', u'Vivien Leigh', u'Thomas Mit...</td>\n    </tr>\n    <tr>\n      <th>204</th>\n      <td>8.1</td>\n      <td>Ben-Hur</td>\n      <td>G</td>\n      <td>Adventure</td>\n      <td>212</td>\n      <td>[u'Charlton Heston', u'Jack Hawkins', u'Stephe...</td>\n    </tr>\n    <tr>\n      <th>445</th>\n      <td>7.9</td>\n      <td>The Ten Commandments</td>\n      <td>APPROVED</td>\n      <td>Adventure</td>\n      <td>220</td>\n      <td>[u'Charlton Heston', u'Yul Brynner', u'Anne Ba...</td>\n    </tr>\n    <tr>\n      <th>476</th>\n      <td>7.8</td>\n      <td>Hamlet</td>\n      <td>PG-13</td>\n      <td>Drama</td>\n      <td>242</td>\n      <td>[u'Kenneth Branagh', u'Julie Christie', u'Dere...</td>\n    </tr>\n    <tr>\n      <th>630</th>\n      <td>7.7</td>\n      <td>Malcolm X</td>\n      <td>PG-13</td>\n      <td>Biography</td>\n      <td>202</td>\n      <td>[u'Denzel Washington', u'Angela Bassett', u'De...</td>\n    </tr>\n    <tr>\n      <th>767</th>\n      <td>7.6</td>\n      <td>It's a Mad, Mad, Mad, Mad World</td>\n      <td>APPROVED</td>\n      <td>Action</td>\n      <td>205</td>\n      <td>[u'Spencer Tracy', u'Milton Berle', u'Ethel Me...</td>\n    </tr>\n  </tbody>\n</table>\n</div>"
     },
     "execution_count": 284,
     "metadata": {},
     "output_type": "execute_result"
    }
   ],
   "source": [
    "movies[is_long]"
   ],
   "metadata": {
    "collapsed": false,
    "ExecuteTime": {
     "end_time": "2023-11-07T14:38:48.455105700Z",
     "start_time": "2023-11-07T14:38:48.398979900Z"
    }
   },
   "id": "669d3da6baf648b3"
  },
  {
   "cell_type": "code",
   "execution_count": 285,
   "outputs": [
    {
     "data": {
      "text/plain": "0          Crime\n1          Crime\n2          Crime\n3         Action\n4          Crime\n         ...    \n974       Comedy\n975    Adventure\n976       Action\n977       Horror\n978        Crime\nName: genre, Length: 979, dtype: object"
     },
     "execution_count": 285,
     "metadata": {},
     "output_type": "execute_result"
    }
   ],
   "source": [
    "movies['genre']"
   ],
   "metadata": {
    "collapsed": false,
    "ExecuteTime": {
     "end_time": "2023-11-07T14:38:48.467108600Z",
     "start_time": "2023-11-07T14:38:48.427579100Z"
    }
   },
   "id": "81d6abe2804673e5"
  },
  {
   "cell_type": "code",
   "execution_count": 286,
   "outputs": [],
   "source": [
    "is_long = movies.duration >= 200"
   ],
   "metadata": {
    "collapsed": false,
    "ExecuteTime": {
     "end_time": "2023-11-07T14:38:48.578793900Z",
     "start_time": "2023-11-07T14:38:48.443107900Z"
    }
   },
   "id": "5eac2d367fb0557d"
  },
  {
   "cell_type": "code",
   "execution_count": 287,
   "outputs": [
    {
     "data": {
      "text/plain": "0    False\n1    False\n2     True\n3    False\n4    False\nName: duration, dtype: bool"
     },
     "execution_count": 287,
     "metadata": {},
     "output_type": "execute_result"
    }
   ],
   "source": [
    "is_long.head()"
   ],
   "metadata": {
    "collapsed": false,
    "ExecuteTime": {
     "end_time": "2023-11-07T14:38:48.634851900Z",
     "start_time": "2023-11-07T14:38:48.463109200Z"
    }
   },
   "id": "f721e7915343ae1d"
  },
  {
   "cell_type": "code",
   "execution_count": 288,
   "outputs": [],
   "source": [
    "booleans = []"
   ],
   "metadata": {
    "collapsed": false,
    "ExecuteTime": {
     "end_time": "2023-11-07T14:38:48.663376200Z",
     "start_time": "2023-11-07T14:38:48.491543400Z"
    }
   },
   "id": "a19119c7b834551d"
  },
  {
   "cell_type": "code",
   "execution_count": 289,
   "outputs": [],
   "source": [
    "for length in movies.duration:\n",
    "    if length >=200:\n",
    "        booleans.append(True)\n",
    "    else:\n",
    "        booleans.append(False)"
   ],
   "metadata": {
    "collapsed": false,
    "ExecuteTime": {
     "end_time": "2023-11-07T14:38:48.663376200Z",
     "start_time": "2023-11-07T14:38:48.512650100Z"
    }
   },
   "id": "5841c9667377df71"
  },
  {
   "cell_type": "code",
   "execution_count": 290,
   "outputs": [
    {
     "data": {
      "text/plain": "[False, False, True, False, False]"
     },
     "execution_count": 290,
     "metadata": {},
     "output_type": "execute_result"
    }
   ],
   "source": [
    "booleans[0:5]"
   ],
   "metadata": {
    "collapsed": false,
    "ExecuteTime": {
     "end_time": "2023-11-07T14:38:48.663376200Z",
     "start_time": "2023-11-07T14:38:48.527294900Z"
    }
   },
   "id": "54b8bbf766a0045a"
  },
  {
   "cell_type": "code",
   "execution_count": 291,
   "outputs": [],
   "source": [
    "is_long = movies.duration >= 200"
   ],
   "metadata": {
    "collapsed": false,
    "ExecuteTime": {
     "end_time": "2023-11-07T14:38:48.707374200Z",
     "start_time": "2023-11-07T14:38:48.536742100Z"
    }
   },
   "id": "eabb618b1e8ac5b0"
  },
  {
   "cell_type": "code",
   "execution_count": 292,
   "outputs": [
    {
     "data": {
      "text/plain": "     star_rating                                          title  \\\n2            9.1                         The Godfather: Part II   \n7            8.9  The Lord of the Rings: The Return of the King   \n17           8.7                                  Seven Samurai   \n78           8.4                    Once Upon a Time in America   \n85           8.4                             Lawrence of Arabia   \n142          8.3              Lagaan: Once Upon a Time in India   \n157          8.2                             Gone with the Wind   \n204          8.1                                        Ben-Hur   \n445          7.9                           The Ten Commandments   \n476          7.8                                         Hamlet   \n630          7.7                                      Malcolm X   \n767          7.6                It's a Mad, Mad, Mad, Mad World   \n\n    content_rating      genre  duration  \\\n2                R      Crime       200   \n7            PG-13  Adventure       201   \n17         UNRATED      Drama       207   \n78               R      Crime       229   \n85              PG  Adventure       216   \n142             PG  Adventure       224   \n157              G      Drama       238   \n204              G  Adventure       212   \n445       APPROVED  Adventure       220   \n476          PG-13      Drama       242   \n630          PG-13  Biography       202   \n767       APPROVED     Action       205   \n\n                                           actors_list  \n2    [u'Al Pacino', u'Robert De Niro', u'Robert Duv...  \n7    [u'Elijah Wood', u'Viggo Mortensen', u'Ian McK...  \n17   [u'Toshir\\xf4 Mifune', u'Takashi Shimura', u'K...  \n78   [u'Robert De Niro', u'James Woods', u'Elizabet...  \n85   [u\"Peter O'Toole\", u'Alec Guinness', u'Anthony...  \n142  [u'Aamir Khan', u'Gracy Singh', u'Rachel Shell...  \n157  [u'Clark Gable', u'Vivien Leigh', u'Thomas Mit...  \n204  [u'Charlton Heston', u'Jack Hawkins', u'Stephe...  \n445  [u'Charlton Heston', u'Yul Brynner', u'Anne Ba...  \n476  [u'Kenneth Branagh', u'Julie Christie', u'Dere...  \n630  [u'Denzel Washington', u'Angela Bassett', u'De...  \n767  [u'Spencer Tracy', u'Milton Berle', u'Ethel Me...  ",
      "text/html": "<div>\n<style scoped>\n    .dataframe tbody tr th:only-of-type {\n        vertical-align: middle;\n    }\n\n    .dataframe tbody tr th {\n        vertical-align: top;\n    }\n\n    .dataframe thead th {\n        text-align: right;\n    }\n</style>\n<table border=\"1\" class=\"dataframe\">\n  <thead>\n    <tr style=\"text-align: right;\">\n      <th></th>\n      <th>star_rating</th>\n      <th>title</th>\n      <th>content_rating</th>\n      <th>genre</th>\n      <th>duration</th>\n      <th>actors_list</th>\n    </tr>\n  </thead>\n  <tbody>\n    <tr>\n      <th>2</th>\n      <td>9.1</td>\n      <td>The Godfather: Part II</td>\n      <td>R</td>\n      <td>Crime</td>\n      <td>200</td>\n      <td>[u'Al Pacino', u'Robert De Niro', u'Robert Duv...</td>\n    </tr>\n    <tr>\n      <th>7</th>\n      <td>8.9</td>\n      <td>The Lord of the Rings: The Return of the King</td>\n      <td>PG-13</td>\n      <td>Adventure</td>\n      <td>201</td>\n      <td>[u'Elijah Wood', u'Viggo Mortensen', u'Ian McK...</td>\n    </tr>\n    <tr>\n      <th>17</th>\n      <td>8.7</td>\n      <td>Seven Samurai</td>\n      <td>UNRATED</td>\n      <td>Drama</td>\n      <td>207</td>\n      <td>[u'Toshir\\xf4 Mifune', u'Takashi Shimura', u'K...</td>\n    </tr>\n    <tr>\n      <th>78</th>\n      <td>8.4</td>\n      <td>Once Upon a Time in America</td>\n      <td>R</td>\n      <td>Crime</td>\n      <td>229</td>\n      <td>[u'Robert De Niro', u'James Woods', u'Elizabet...</td>\n    </tr>\n    <tr>\n      <th>85</th>\n      <td>8.4</td>\n      <td>Lawrence of Arabia</td>\n      <td>PG</td>\n      <td>Adventure</td>\n      <td>216</td>\n      <td>[u\"Peter O'Toole\", u'Alec Guinness', u'Anthony...</td>\n    </tr>\n    <tr>\n      <th>142</th>\n      <td>8.3</td>\n      <td>Lagaan: Once Upon a Time in India</td>\n      <td>PG</td>\n      <td>Adventure</td>\n      <td>224</td>\n      <td>[u'Aamir Khan', u'Gracy Singh', u'Rachel Shell...</td>\n    </tr>\n    <tr>\n      <th>157</th>\n      <td>8.2</td>\n      <td>Gone with the Wind</td>\n      <td>G</td>\n      <td>Drama</td>\n      <td>238</td>\n      <td>[u'Clark Gable', u'Vivien Leigh', u'Thomas Mit...</td>\n    </tr>\n    <tr>\n      <th>204</th>\n      <td>8.1</td>\n      <td>Ben-Hur</td>\n      <td>G</td>\n      <td>Adventure</td>\n      <td>212</td>\n      <td>[u'Charlton Heston', u'Jack Hawkins', u'Stephe...</td>\n    </tr>\n    <tr>\n      <th>445</th>\n      <td>7.9</td>\n      <td>The Ten Commandments</td>\n      <td>APPROVED</td>\n      <td>Adventure</td>\n      <td>220</td>\n      <td>[u'Charlton Heston', u'Yul Brynner', u'Anne Ba...</td>\n    </tr>\n    <tr>\n      <th>476</th>\n      <td>7.8</td>\n      <td>Hamlet</td>\n      <td>PG-13</td>\n      <td>Drama</td>\n      <td>242</td>\n      <td>[u'Kenneth Branagh', u'Julie Christie', u'Dere...</td>\n    </tr>\n    <tr>\n      <th>630</th>\n      <td>7.7</td>\n      <td>Malcolm X</td>\n      <td>PG-13</td>\n      <td>Biography</td>\n      <td>202</td>\n      <td>[u'Denzel Washington', u'Angela Bassett', u'De...</td>\n    </tr>\n    <tr>\n      <th>767</th>\n      <td>7.6</td>\n      <td>It's a Mad, Mad, Mad, Mad World</td>\n      <td>APPROVED</td>\n      <td>Action</td>\n      <td>205</td>\n      <td>[u'Spencer Tracy', u'Milton Berle', u'Ethel Me...</td>\n    </tr>\n  </tbody>\n</table>\n</div>"
     },
     "execution_count": 292,
     "metadata": {},
     "output_type": "execute_result"
    }
   ],
   "source": [
    "movies[movies.duration >= 200]"
   ],
   "metadata": {
    "collapsed": false,
    "ExecuteTime": {
     "end_time": "2023-11-07T14:38:48.747601200Z",
     "start_time": "2023-11-07T14:38:48.550786Z"
    }
   },
   "id": "ace3541e90cc57a1"
  },
  {
   "cell_type": "code",
   "execution_count": 293,
   "outputs": [
    {
     "data": {
      "text/plain": "2          Crime\n7      Adventure\n17         Drama\n78         Crime\n85     Adventure\n142    Adventure\n157        Drama\n204    Adventure\n445    Adventure\n476        Drama\n630    Biography\n767       Action\nName: genre, dtype: object"
     },
     "execution_count": 293,
     "metadata": {},
     "output_type": "execute_result"
    }
   ],
   "source": [
    "movies[movies.duration >= 200].genre"
   ],
   "metadata": {
    "collapsed": false,
    "ExecuteTime": {
     "end_time": "2023-11-07T14:38:48.875786400Z",
     "start_time": "2023-11-07T14:38:48.582791900Z"
    }
   },
   "id": "98b7553f820adda0"
  },
  {
   "cell_type": "code",
   "execution_count": 294,
   "outputs": [
    {
     "data": {
      "text/plain": "2          Crime\n7      Adventure\n17         Drama\n78         Crime\n85     Adventure\n142    Adventure\n157        Drama\n204    Adventure\n445    Adventure\n476        Drama\n630    Biography\n767       Action\nName: genre, dtype: object"
     },
     "execution_count": 294,
     "metadata": {},
     "output_type": "execute_result"
    }
   ],
   "source": [
    "movies[movies.duration >= 200]['genre']"
   ],
   "metadata": {
    "collapsed": false,
    "ExecuteTime": {
     "end_time": "2023-11-07T14:38:48.935473900Z",
     "start_time": "2023-11-07T14:38:48.606799400Z"
    }
   },
   "id": "ada2a26f77718b56"
  },
  {
   "cell_type": "code",
   "execution_count": 295,
   "outputs": [
    {
     "data": {
      "text/plain": "2          Crime\n7      Adventure\n17         Drama\n78         Crime\n85     Adventure\n142    Adventure\n157        Drama\n204    Adventure\n445    Adventure\n476        Drama\n630    Biography\n767       Action\nName: genre, dtype: object"
     },
     "execution_count": 295,
     "metadata": {},
     "output_type": "execute_result"
    }
   ],
   "source": [
    "movies.loc[movies.duration >= 200, 'genre']"
   ],
   "metadata": {
    "collapsed": false,
    "ExecuteTime": {
     "end_time": "2023-11-07T14:38:48.935473900Z",
     "start_time": "2023-11-07T14:38:48.622846600Z"
    }
   },
   "id": "a2b0cb1f2c6e125a"
  }
 ],
 "metadata": {
  "kernelspec": {
   "display_name": "Python 3",
   "language": "python",
   "name": "python3"
  },
  "language_info": {
   "codemirror_mode": {
    "name": "ipython",
    "version": 2
   },
   "file_extension": ".py",
   "mimetype": "text/x-python",
   "name": "python",
   "nbconvert_exporter": "python",
   "pygments_lexer": "ipython2",
   "version": "2.7.6"
  }
 },
 "nbformat": 4,
 "nbformat_minor": 5
}
