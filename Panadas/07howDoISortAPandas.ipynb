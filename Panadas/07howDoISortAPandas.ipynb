{
 "cells": [
  {
   "cell_type": "code",
   "execution_count": 13,
   "id": "initial_id",
   "metadata": {
    "collapsed": true,
    "ExecuteTime": {
     "end_time": "2023-11-07T14:10:33.424850Z",
     "start_time": "2023-11-07T14:10:33.388837800Z"
    }
   },
   "outputs": [],
   "source": [
    "import pandas as pd\n"
   ]
  },
  {
   "cell_type": "code",
   "execution_count": 14,
   "outputs": [],
   "source": [
    "movies = pd.read_csv('imdbratings.csv')"
   ],
   "metadata": {
    "collapsed": false,
    "ExecuteTime": {
     "end_time": "2023-11-07T14:10:33.464901500Z",
     "start_time": "2023-11-07T14:10:33.400834500Z"
    }
   },
   "id": "28d32b54dd87a3a8"
  },
  {
   "cell_type": "code",
   "execution_count": 15,
   "outputs": [
    {
     "data": {
      "text/plain": "   star_rating                     title content_rating   genre  duration  \\\n0          9.3  The Shawshank Redemption              R   Crime       142   \n1          9.2             The Godfather              R   Crime       175   \n2          9.1    The Godfather: Part II              R   Crime       200   \n3          9.0           The Dark Knight          PG-13  Action       152   \n4          8.9              Pulp Fiction              R   Crime       154   \n\n                                         actors_list  \n0  [u'Tim Robbins', u'Morgan Freeman', u'Bob Gunt...  \n1    [u'Marlon Brando', u'Al Pacino', u'James Caan']  \n2  [u'Al Pacino', u'Robert De Niro', u'Robert Duv...  \n3  [u'Christian Bale', u'Heath Ledger', u'Aaron E...  \n4  [u'John Travolta', u'Uma Thurman', u'Samuel L....  ",
      "text/html": "<div>\n<style scoped>\n    .dataframe tbody tr th:only-of-type {\n        vertical-align: middle;\n    }\n\n    .dataframe tbody tr th {\n        vertical-align: top;\n    }\n\n    .dataframe thead th {\n        text-align: right;\n    }\n</style>\n<table border=\"1\" class=\"dataframe\">\n  <thead>\n    <tr style=\"text-align: right;\">\n      <th></th>\n      <th>star_rating</th>\n      <th>title</th>\n      <th>content_rating</th>\n      <th>genre</th>\n      <th>duration</th>\n      <th>actors_list</th>\n    </tr>\n  </thead>\n  <tbody>\n    <tr>\n      <th>0</th>\n      <td>9.3</td>\n      <td>The Shawshank Redemption</td>\n      <td>R</td>\n      <td>Crime</td>\n      <td>142</td>\n      <td>[u'Tim Robbins', u'Morgan Freeman', u'Bob Gunt...</td>\n    </tr>\n    <tr>\n      <th>1</th>\n      <td>9.2</td>\n      <td>The Godfather</td>\n      <td>R</td>\n      <td>Crime</td>\n      <td>175</td>\n      <td>[u'Marlon Brando', u'Al Pacino', u'James Caan']</td>\n    </tr>\n    <tr>\n      <th>2</th>\n      <td>9.1</td>\n      <td>The Godfather: Part II</td>\n      <td>R</td>\n      <td>Crime</td>\n      <td>200</td>\n      <td>[u'Al Pacino', u'Robert De Niro', u'Robert Duv...</td>\n    </tr>\n    <tr>\n      <th>3</th>\n      <td>9.0</td>\n      <td>The Dark Knight</td>\n      <td>PG-13</td>\n      <td>Action</td>\n      <td>152</td>\n      <td>[u'Christian Bale', u'Heath Ledger', u'Aaron E...</td>\n    </tr>\n    <tr>\n      <th>4</th>\n      <td>8.9</td>\n      <td>Pulp Fiction</td>\n      <td>R</td>\n      <td>Crime</td>\n      <td>154</td>\n      <td>[u'John Travolta', u'Uma Thurman', u'Samuel L....</td>\n    </tr>\n  </tbody>\n</table>\n</div>"
     },
     "execution_count": 15,
     "metadata": {},
     "output_type": "execute_result"
    }
   ],
   "source": [
    "movies.head()"
   ],
   "metadata": {
    "collapsed": false,
    "ExecuteTime": {
     "end_time": "2023-11-07T14:10:33.464901500Z",
     "start_time": "2023-11-07T14:10:33.428850100Z"
    }
   },
   "id": "ef43783d254e7fa0"
  },
  {
   "cell_type": "code",
   "execution_count": 16,
   "outputs": [],
   "source": [
    "# movies.title.sort_values()"
   ],
   "metadata": {
    "collapsed": false,
    "ExecuteTime": {
     "end_time": "2023-11-07T14:10:33.484900600Z",
     "start_time": "2023-11-07T14:10:33.460899200Z"
    }
   },
   "id": "e8687fa6e0e65529"
  },
  {
   "cell_type": "code",
   "execution_count": 17,
   "outputs": [
    {
     "data": {
      "text/plain": "542     (500) Days of Summer\n5               12 Angry Men\n201         12 Years a Slave\n698                127 Hours\n110    2001: A Space Odyssey\n               ...          \n955         Zero Dark Thirty\n677                   Zodiac\n615               Zombieland\n526                     Zulu\n864                    [Rec]\nName: title, Length: 979, dtype: object"
     },
     "execution_count": 17,
     "metadata": {},
     "output_type": "execute_result"
    }
   ],
   "source": [
    "movies['title'].sort_values()"
   ],
   "metadata": {
    "collapsed": false,
    "ExecuteTime": {
     "end_time": "2023-11-07T14:10:33.488900600Z",
     "start_time": "2023-11-07T14:10:33.480897800Z"
    }
   },
   "id": "6c136855f1ab4392"
  },
  {
   "cell_type": "code",
   "execution_count": 18,
   "outputs": [
    {
     "data": {
      "text/plain": "pandas.core.series.Series"
     },
     "execution_count": 18,
     "metadata": {},
     "output_type": "execute_result"
    }
   ],
   "source": [
    "type(movies['title'].sort_values())"
   ],
   "metadata": {
    "collapsed": false,
    "ExecuteTime": {
     "end_time": "2023-11-07T14:10:33.556727200Z",
     "start_time": "2023-11-07T14:10:33.488900600Z"
    }
   },
   "id": "25298fb93e72d9ba"
  },
  {
   "cell_type": "code",
   "execution_count": 19,
   "outputs": [
    {
     "data": {
      "text/plain": "864                    [Rec]\n526                     Zulu\n615               Zombieland\n677                   Zodiac\n955         Zero Dark Thirty\n               ...          \n110    2001: A Space Odyssey\n698                127 Hours\n201         12 Years a Slave\n5               12 Angry Men\n542     (500) Days of Summer\nName: title, Length: 979, dtype: object"
     },
     "execution_count": 19,
     "metadata": {},
     "output_type": "execute_result"
    }
   ],
   "source": [
    "movies['title'].sort_values(ascending=False)"
   ],
   "metadata": {
    "collapsed": false,
    "ExecuteTime": {
     "end_time": "2023-11-07T14:10:33.556727200Z",
     "start_time": "2023-11-07T14:10:33.500904200Z"
    }
   },
   "id": "c25f78f95547e0b3"
  },
  {
   "cell_type": "code",
   "execution_count": 20,
   "outputs": [
    {
     "data": {
      "text/plain": "0                             The Shawshank Redemption\n1                                        The Godfather\n2                               The Godfather: Part II\n3                                      The Dark Knight\n4                                         Pulp Fiction\n                            ...                       \n974                                            Tootsie\n975                        Back to the Future Part III\n976    Master and Commander: The Far Side of the World\n977                                        Poltergeist\n978                                        Wall Street\nName: title, Length: 979, dtype: object"
     },
     "execution_count": 20,
     "metadata": {},
     "output_type": "execute_result"
    }
   ],
   "source": [
    "movies['title']"
   ],
   "metadata": {
    "collapsed": false,
    "ExecuteTime": {
     "end_time": "2023-11-07T14:10:33.651640100Z",
     "start_time": "2023-11-07T14:10:33.520128200Z"
    }
   },
   "id": "c5d4d65d4d2e6c82"
  },
  {
   "cell_type": "code",
   "execution_count": 21,
   "outputs": [
    {
     "data": {
      "text/plain": "     star_rating                  title content_rating      genre  duration  \\\n542          7.8   (500) Days of Summer          PG-13     Comedy        95   \n5            8.9           12 Angry Men      NOT RATED      Drama        96   \n201          8.1       12 Years a Slave              R  Biography       134   \n698          7.6              127 Hours              R  Adventure        94   \n110          8.3  2001: A Space Odyssey              G    Mystery       160   \n..           ...                    ...            ...        ...       ...   \n955          7.4       Zero Dark Thirty              R      Drama       157   \n677          7.7                 Zodiac              R      Crime       157   \n615          7.7             Zombieland              R     Comedy        88   \n526          7.8                   Zulu        UNRATED      Drama       138   \n864          7.5                  [Rec]              R     Horror        78   \n\n                                           actors_list  \n542  [u'Zooey Deschanel', u'Joseph Gordon-Levitt', ...  \n5    [u'Henry Fonda', u'Lee J. Cobb', u'Martin Bals...  \n201  [u'Chiwetel Ejiofor', u'Michael Kenneth Willia...  \n698  [u'James Franco', u'Amber Tamblyn', u'Kate Mara']  \n110  [u'Keir Dullea', u'Gary Lockwood', u'William S...  \n..                                                 ...  \n955  [u'Jessica Chastain', u'Joel Edgerton', u'Chri...  \n677  [u'Jake Gyllenhaal', u'Robert Downey Jr.', u'M...  \n615  [u'Jesse Eisenberg', u'Emma Stone', u'Woody Ha...  \n526  [u'Stanley Baker', u'Jack Hawkins', u'Ulla Jac...  \n864  [u'Manuela Velasco', u'Ferran Terraza', u'Jorg...  \n\n[979 rows x 6 columns]",
      "text/html": "<div>\n<style scoped>\n    .dataframe tbody tr th:only-of-type {\n        vertical-align: middle;\n    }\n\n    .dataframe tbody tr th {\n        vertical-align: top;\n    }\n\n    .dataframe thead th {\n        text-align: right;\n    }\n</style>\n<table border=\"1\" class=\"dataframe\">\n  <thead>\n    <tr style=\"text-align: right;\">\n      <th></th>\n      <th>star_rating</th>\n      <th>title</th>\n      <th>content_rating</th>\n      <th>genre</th>\n      <th>duration</th>\n      <th>actors_list</th>\n    </tr>\n  </thead>\n  <tbody>\n    <tr>\n      <th>542</th>\n      <td>7.8</td>\n      <td>(500) Days of Summer</td>\n      <td>PG-13</td>\n      <td>Comedy</td>\n      <td>95</td>\n      <td>[u'Zooey Deschanel', u'Joseph Gordon-Levitt', ...</td>\n    </tr>\n    <tr>\n      <th>5</th>\n      <td>8.9</td>\n      <td>12 Angry Men</td>\n      <td>NOT RATED</td>\n      <td>Drama</td>\n      <td>96</td>\n      <td>[u'Henry Fonda', u'Lee J. Cobb', u'Martin Bals...</td>\n    </tr>\n    <tr>\n      <th>201</th>\n      <td>8.1</td>\n      <td>12 Years a Slave</td>\n      <td>R</td>\n      <td>Biography</td>\n      <td>134</td>\n      <td>[u'Chiwetel Ejiofor', u'Michael Kenneth Willia...</td>\n    </tr>\n    <tr>\n      <th>698</th>\n      <td>7.6</td>\n      <td>127 Hours</td>\n      <td>R</td>\n      <td>Adventure</td>\n      <td>94</td>\n      <td>[u'James Franco', u'Amber Tamblyn', u'Kate Mara']</td>\n    </tr>\n    <tr>\n      <th>110</th>\n      <td>8.3</td>\n      <td>2001: A Space Odyssey</td>\n      <td>G</td>\n      <td>Mystery</td>\n      <td>160</td>\n      <td>[u'Keir Dullea', u'Gary Lockwood', u'William S...</td>\n    </tr>\n    <tr>\n      <th>...</th>\n      <td>...</td>\n      <td>...</td>\n      <td>...</td>\n      <td>...</td>\n      <td>...</td>\n      <td>...</td>\n    </tr>\n    <tr>\n      <th>955</th>\n      <td>7.4</td>\n      <td>Zero Dark Thirty</td>\n      <td>R</td>\n      <td>Drama</td>\n      <td>157</td>\n      <td>[u'Jessica Chastain', u'Joel Edgerton', u'Chri...</td>\n    </tr>\n    <tr>\n      <th>677</th>\n      <td>7.7</td>\n      <td>Zodiac</td>\n      <td>R</td>\n      <td>Crime</td>\n      <td>157</td>\n      <td>[u'Jake Gyllenhaal', u'Robert Downey Jr.', u'M...</td>\n    </tr>\n    <tr>\n      <th>615</th>\n      <td>7.7</td>\n      <td>Zombieland</td>\n      <td>R</td>\n      <td>Comedy</td>\n      <td>88</td>\n      <td>[u'Jesse Eisenberg', u'Emma Stone', u'Woody Ha...</td>\n    </tr>\n    <tr>\n      <th>526</th>\n      <td>7.8</td>\n      <td>Zulu</td>\n      <td>UNRATED</td>\n      <td>Drama</td>\n      <td>138</td>\n      <td>[u'Stanley Baker', u'Jack Hawkins', u'Ulla Jac...</td>\n    </tr>\n    <tr>\n      <th>864</th>\n      <td>7.5</td>\n      <td>[Rec]</td>\n      <td>R</td>\n      <td>Horror</td>\n      <td>78</td>\n      <td>[u'Manuela Velasco', u'Ferran Terraza', u'Jorg...</td>\n    </tr>\n  </tbody>\n</table>\n<p>979 rows × 6 columns</p>\n</div>"
     },
     "execution_count": 21,
     "metadata": {},
     "output_type": "execute_result"
    }
   ],
   "source": [
    "movies.sort_values('title')"
   ],
   "metadata": {
    "collapsed": false,
    "ExecuteTime": {
     "end_time": "2023-11-07T14:10:33.663204800Z",
     "start_time": "2023-11-07T14:10:33.535196500Z"
    }
   },
   "id": "35406bf18e321fbd"
  },
  {
   "cell_type": "code",
   "execution_count": null,
   "outputs": [],
   "source": [
    "movies = movies.sort_values('genre')\n",
    "movies.sort_values('genre', ascending=False, inplace = True)"
   ],
   "metadata": {
    "collapsed": false
   },
   "id": "db6210dabeb1f57f"
  }
 ],
 "metadata": {
  "kernelspec": {
   "display_name": "Python 3",
   "language": "python",
   "name": "python3"
  },
  "language_info": {
   "codemirror_mode": {
    "name": "ipython",
    "version": 2
   },
   "file_extension": ".py",
   "mimetype": "text/x-python",
   "name": "python",
   "nbconvert_exporter": "python",
   "pygments_lexer": "ipython2",
   "version": "2.7.6"
  }
 },
 "nbformat": 4,
 "nbformat_minor": 5
}
